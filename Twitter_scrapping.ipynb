{
 "cells": [
  {
   "cell_type": "code",
   "execution_count": 4,
   "id": "f3ee9ad4",
   "metadata": {},
   "outputs": [
    {
     "name": "stdout",
     "output_type": "stream",
     "text": [
      "Collecting git+https://github.com/JustAnotherArchivist/snscrape.git\n",
      "  Cloning https://github.com/JustAnotherArchivist/snscrape.git to c:\\users\\aathi\\appdata\\local\\temp\\pip-req-build-4rl2zpv9\n",
      "  Resolved https://github.com/JustAnotherArchivist/snscrape.git to commit b515a66b937276eafff41cf6b897c53ecf3d54a2\n",
      "  Installing build dependencies: started\n",
      "  Installing build dependencies: finished with status 'done'\n",
      "  Getting requirements to build wheel: started\n",
      "  Getting requirements to build wheel: finished with status 'done'\n",
      "  Installing backend dependencies: started\n",
      "  Installing backend dependencies: finished with status 'done'\n",
      "  Preparing metadata (pyproject.toml): started\n",
      "  Preparing metadata (pyproject.toml): finished with status 'done'\n",
      "Requirement already satisfied: requests[socks] in c:\\users\\aathi\\anaconda3\\lib\\site-packages (from snscrape==0.5.0.20230114.dev6+gb515a66) (2.28.1)\n",
      "Requirement already satisfied: lxml in c:\\users\\aathi\\anaconda3\\lib\\site-packages (from snscrape==0.5.0.20230114.dev6+gb515a66) (4.9.1)\n",
      "Requirement already satisfied: filelock in c:\\users\\aathi\\anaconda3\\lib\\site-packages (from snscrape==0.5.0.20230114.dev6+gb515a66) (3.6.0)\n",
      "Requirement already satisfied: beautifulsoup4 in c:\\users\\aathi\\anaconda3\\lib\\site-packages (from snscrape==0.5.0.20230114.dev6+gb515a66) (4.11.1)\n",
      "Requirement already satisfied: soupsieve>1.2 in c:\\users\\aathi\\anaconda3\\lib\\site-packages (from beautifulsoup4->snscrape==0.5.0.20230114.dev6+gb515a66) (2.3.1)\n",
      "Requirement already satisfied: urllib3<1.27,>=1.21.1 in c:\\users\\aathi\\anaconda3\\lib\\site-packages (from requests[socks]->snscrape==0.5.0.20230114.dev6+gb515a66) (1.26.11)\n",
      "Requirement already satisfied: certifi>=2017.4.17 in c:\\users\\aathi\\anaconda3\\lib\\site-packages (from requests[socks]->snscrape==0.5.0.20230114.dev6+gb515a66) (2022.9.14)\n",
      "Requirement already satisfied: idna<4,>=2.5 in c:\\users\\aathi\\anaconda3\\lib\\site-packages (from requests[socks]->snscrape==0.5.0.20230114.dev6+gb515a66) (3.3)\n",
      "Requirement already satisfied: charset-normalizer<3,>=2 in c:\\users\\aathi\\anaconda3\\lib\\site-packages (from requests[socks]->snscrape==0.5.0.20230114.dev6+gb515a66) (2.0.4)\n",
      "Requirement already satisfied: PySocks!=1.5.7,>=1.5.6 in c:\\users\\aathi\\anaconda3\\lib\\site-packages (from requests[socks]->snscrape==0.5.0.20230114.dev6+gb515a66) (1.7.1)\n",
      "Building wheels for collected packages: snscrape\n",
      "  Building wheel for snscrape (pyproject.toml): started\n",
      "  Building wheel for snscrape (pyproject.toml): finished with status 'done'\n",
      "  Created wheel for snscrape: filename=snscrape-0.5.0.20230114.dev6+gb515a66-py3-none-any.whl size=70310 sha256=dfc0e0124c41062789adaa116e4585b3b593dfa191758a524b059f36bedd669e\n",
      "  Stored in directory: C:\\Users\\aathi\\AppData\\Local\\Temp\\pip-ephem-wheel-cache-c75z8ais\\wheels\\1a\\ba\\e2\\39fa3a11802c4a622f2efc8be3f5ff854481051d0b4c95c1fd\n",
      "Successfully built snscrape\n",
      "Installing collected packages: snscrape\n",
      "  Attempting uninstall: snscrape\n",
      "    Found existing installation: snscrape 0.5.0.20230113\n",
      "    Uninstalling snscrape-0.5.0.20230113:\n",
      "      Successfully uninstalled snscrape-0.5.0.20230113\n",
      "Successfully installed snscrape-0.5.0.20230114.dev6+gb515a66\n"
     ]
    },
    {
     "name": "stderr",
     "output_type": "stream",
     "text": [
      "  Running command git clone --filter=blob:none --quiet https://github.com/JustAnotherArchivist/snscrape.git 'C:\\Users\\aathi\\AppData\\Local\\Temp\\pip-req-build-4rl2zpv9'\n"
     ]
    }
   ],
   "source": [
    "!pip install git+https://github.com/JustAnotherArchivist/snscrape.git"
   ]
  },
  {
   "cell_type": "code",
   "execution_count": 11,
   "id": "8d4dbc0c",
   "metadata": {},
   "outputs": [],
   "source": [
    "# importing libraries and packages\n",
    "import snscrape.modules.twitter as sntwitter\n",
    "import pandas as pd\n",
    "import pymongo"
   ]
  },
  {
   "cell_type": "code",
   "execution_count": 7,
   "id": "eeffd5db",
   "metadata": {},
   "outputs": [
    {
     "name": "stderr",
     "output_type": "stream",
     "text": [
      "C:\\Users\\aathi\\AppData\\Local\\Temp\\ipykernel_9304\\3824803168.py:12: FutureWarning: content is deprecated, use rawContent instead\n",
      "  tweets_list1.append([tweet.date, tweet.id, tweet.content, tweet.user.username, tweet.replyCount, tweet.retweetCount, tweet.likeCount, tweet.lang, tweet.source]) #declare the attributes to be returned\n"
     ]
    }
   ],
   "source": [
    "# Creating list to append tweet data \n",
    "tweets_list1 = []\n",
    "\n",
    "# Using TwitterSearchScraper to scrape data and append tweets to list\n",
    "for i,tweet in enumerate(sntwitter.TwitterSearchScraper('from:elonmusk').get_items()): #declare a username \n",
    "    if i>1000: #number of tweets you want to scrape\n",
    "        break\n",
    "    tweets_list1.append([tweet.date, tweet.id, tweet.content, tweet.user.username, tweet.replyCount, tweet.retweetCount, tweet.likeCount, tweet.lang, tweet.source]) #declare the attributes to be returned\n",
    "    \n",
    "# Creating a dataframe from the tweets list above \n",
    "tweets_df1 = pd.DataFrame(tweets_list1, columns=['Datetime', 'Tweet Id', 'Text', 'Username', 'Replycount', 'Retweetcount', 'Likecount', 'Language', 'Source'])"
   ]
  },
  {
   "cell_type": "code",
   "execution_count": 8,
   "id": "4f523a32",
   "metadata": {},
   "outputs": [
    {
     "data": {
      "text/html": [
       "<div>\n",
       "<style scoped>\n",
       "    .dataframe tbody tr th:only-of-type {\n",
       "        vertical-align: middle;\n",
       "    }\n",
       "\n",
       "    .dataframe tbody tr th {\n",
       "        vertical-align: top;\n",
       "    }\n",
       "\n",
       "    .dataframe thead th {\n",
       "        text-align: right;\n",
       "    }\n",
       "</style>\n",
       "<table border=\"1\" class=\"dataframe\">\n",
       "  <thead>\n",
       "    <tr style=\"text-align: right;\">\n",
       "      <th></th>\n",
       "      <th>Datetime</th>\n",
       "      <th>Tweet Id</th>\n",
       "      <th>Text</th>\n",
       "      <th>Username</th>\n",
       "      <th>Replycount</th>\n",
       "      <th>Retweetcount</th>\n",
       "      <th>Likecount</th>\n",
       "      <th>Language</th>\n",
       "      <th>Source</th>\n",
       "    </tr>\n",
       "  </thead>\n",
       "  <tbody>\n",
       "    <tr>\n",
       "      <th>0</th>\n",
       "      <td>2023-01-28 02:44:31+00:00</td>\n",
       "      <td>1619164489710178307</td>\n",
       "      <td>@tn_daki @ShitpostGate Yup</td>\n",
       "      <td>elonmusk</td>\n",
       "      <td>340</td>\n",
       "      <td>174</td>\n",
       "      <td>6290</td>\n",
       "      <td>und</td>\n",
       "      <td>&lt;a href=\"http://twitter.com/download/iphone\" r...</td>\n",
       "    </tr>\n",
       "    <tr>\n",
       "      <th>1</th>\n",
       "      <td>2023-01-28 02:38:09+00:00</td>\n",
       "      <td>1619162885774770178</td>\n",
       "      <td>@EvaFoxU 🤣🤣</td>\n",
       "      <td>elonmusk</td>\n",
       "      <td>185</td>\n",
       "      <td>85</td>\n",
       "      <td>2649</td>\n",
       "      <td>und</td>\n",
       "      <td>&lt;a href=\"http://twitter.com/download/iphone\" r...</td>\n",
       "    </tr>\n",
       "    <tr>\n",
       "      <th>2</th>\n",
       "      <td>2023-01-28 02:24:00+00:00</td>\n",
       "      <td>1619159326014459904</td>\n",
       "      <td>@uscounteraction 🤔</td>\n",
       "      <td>elonmusk</td>\n",
       "      <td>336</td>\n",
       "      <td>138</td>\n",
       "      <td>2765</td>\n",
       "      <td>und</td>\n",
       "      <td>&lt;a href=\"http://twitter.com/download/iphone\" r...</td>\n",
       "    </tr>\n",
       "    <tr>\n",
       "      <th>3</th>\n",
       "      <td>2023-01-28 02:09:37+00:00</td>\n",
       "      <td>1619155704564318208</td>\n",
       "      <td>@DrAnitaBEtin Had me there for a minute</td>\n",
       "      <td>elonmusk</td>\n",
       "      <td>1191</td>\n",
       "      <td>791</td>\n",
       "      <td>34317</td>\n",
       "      <td>en</td>\n",
       "      <td>&lt;a href=\"http://twitter.com/download/iphone\" r...</td>\n",
       "    </tr>\n",
       "    <tr>\n",
       "      <th>4</th>\n",
       "      <td>2023-01-28 02:07:58+00:00</td>\n",
       "      <td>1619155291429564416</td>\n",
       "      <td>@MotherJones @mtaibbi Good for you. Taibbi has...</td>\n",
       "      <td>elonmusk</td>\n",
       "      <td>89</td>\n",
       "      <td>79</td>\n",
       "      <td>1180</td>\n",
       "      <td>en</td>\n",
       "      <td>&lt;a href=\"http://twitter.com/download/iphone\" r...</td>\n",
       "    </tr>\n",
       "    <tr>\n",
       "      <th>...</th>\n",
       "      <td>...</td>\n",
       "      <td>...</td>\n",
       "      <td>...</td>\n",
       "      <td>...</td>\n",
       "      <td>...</td>\n",
       "      <td>...</td>\n",
       "      <td>...</td>\n",
       "      <td>...</td>\n",
       "      <td>...</td>\n",
       "    </tr>\n",
       "    <tr>\n",
       "      <th>996</th>\n",
       "      <td>2022-12-15 18:17:10+00:00</td>\n",
       "      <td>1603454133243199500</td>\n",
       "      <td>@MrAndyNgo Insane</td>\n",
       "      <td>elonmusk</td>\n",
       "      <td>2073</td>\n",
       "      <td>3071</td>\n",
       "      <td>53514</td>\n",
       "      <td>tr</td>\n",
       "      <td>&lt;a href=\"http://twitter.com/download/iphone\" r...</td>\n",
       "    </tr>\n",
       "    <tr>\n",
       "      <th>997</th>\n",
       "      <td>2022-12-15 06:18:50+00:00</td>\n",
       "      <td>1603273356865847297</td>\n",
       "      <td>@Teslaconomics Suggestions are welcome</td>\n",
       "      <td>elonmusk</td>\n",
       "      <td>23288</td>\n",
       "      <td>6597</td>\n",
       "      <td>109693</td>\n",
       "      <td>en</td>\n",
       "      <td>&lt;a href=\"http://twitter.com/download/iphone\" r...</td>\n",
       "    </tr>\n",
       "    <tr>\n",
       "      <th>998</th>\n",
       "      <td>2022-12-15 05:26:27+00:00</td>\n",
       "      <td>1603260173644169216</td>\n",
       "      <td>@TheBabylonBee 🤣🔥</td>\n",
       "      <td>elonmusk</td>\n",
       "      <td>2299</td>\n",
       "      <td>6055</td>\n",
       "      <td>141535</td>\n",
       "      <td>und</td>\n",
       "      <td>&lt;a href=\"http://twitter.com/download/iphone\" r...</td>\n",
       "    </tr>\n",
       "    <tr>\n",
       "      <th>999</th>\n",
       "      <td>2022-12-15 03:54:41+00:00</td>\n",
       "      <td>1603237081861472257</td>\n",
       "      <td>@jhall Yeah</td>\n",
       "      <td>elonmusk</td>\n",
       "      <td>1546</td>\n",
       "      <td>1063</td>\n",
       "      <td>25057</td>\n",
       "      <td>en</td>\n",
       "      <td>&lt;a href=\"http://twitter.com/download/iphone\" r...</td>\n",
       "    </tr>\n",
       "    <tr>\n",
       "      <th>1000</th>\n",
       "      <td>2022-12-15 03:50:23+00:00</td>\n",
       "      <td>1603235998263123969</td>\n",
       "      <td>Anyone recognize this person or car? https://t...</td>\n",
       "      <td>elonmusk</td>\n",
       "      <td>26735</td>\n",
       "      <td>31739</td>\n",
       "      <td>162483</td>\n",
       "      <td>en</td>\n",
       "      <td>&lt;a href=\"http://twitter.com/download/iphone\" r...</td>\n",
       "    </tr>\n",
       "  </tbody>\n",
       "</table>\n",
       "<p>1001 rows × 9 columns</p>\n",
       "</div>"
      ],
      "text/plain": [
       "                      Datetime             Tweet Id  \\\n",
       "0    2023-01-28 02:44:31+00:00  1619164489710178307   \n",
       "1    2023-01-28 02:38:09+00:00  1619162885774770178   \n",
       "2    2023-01-28 02:24:00+00:00  1619159326014459904   \n",
       "3    2023-01-28 02:09:37+00:00  1619155704564318208   \n",
       "4    2023-01-28 02:07:58+00:00  1619155291429564416   \n",
       "...                        ...                  ...   \n",
       "996  2022-12-15 18:17:10+00:00  1603454133243199500   \n",
       "997  2022-12-15 06:18:50+00:00  1603273356865847297   \n",
       "998  2022-12-15 05:26:27+00:00  1603260173644169216   \n",
       "999  2022-12-15 03:54:41+00:00  1603237081861472257   \n",
       "1000 2022-12-15 03:50:23+00:00  1603235998263123969   \n",
       "\n",
       "                                                   Text  Username  Replycount  \\\n",
       "0                            @tn_daki @ShitpostGate Yup  elonmusk         340   \n",
       "1                                           @EvaFoxU 🤣🤣  elonmusk         185   \n",
       "2                                    @uscounteraction 🤔  elonmusk         336   \n",
       "3               @DrAnitaBEtin Had me there for a minute  elonmusk        1191   \n",
       "4     @MotherJones @mtaibbi Good for you. Taibbi has...  elonmusk          89   \n",
       "...                                                 ...       ...         ...   \n",
       "996                                   @MrAndyNgo Insane  elonmusk        2073   \n",
       "997              @Teslaconomics Suggestions are welcome  elonmusk       23288   \n",
       "998                                   @TheBabylonBee 🤣🔥  elonmusk        2299   \n",
       "999                                         @jhall Yeah  elonmusk        1546   \n",
       "1000  Anyone recognize this person or car? https://t...  elonmusk       26735   \n",
       "\n",
       "      Retweetcount  Likecount Language  \\\n",
       "0              174       6290      und   \n",
       "1               85       2649      und   \n",
       "2              138       2765      und   \n",
       "3              791      34317       en   \n",
       "4               79       1180       en   \n",
       "...            ...        ...      ...   \n",
       "996           3071      53514       tr   \n",
       "997           6597     109693       en   \n",
       "998           6055     141535      und   \n",
       "999           1063      25057       en   \n",
       "1000         31739     162483       en   \n",
       "\n",
       "                                                 Source  \n",
       "0     <a href=\"http://twitter.com/download/iphone\" r...  \n",
       "1     <a href=\"http://twitter.com/download/iphone\" r...  \n",
       "2     <a href=\"http://twitter.com/download/iphone\" r...  \n",
       "3     <a href=\"http://twitter.com/download/iphone\" r...  \n",
       "4     <a href=\"http://twitter.com/download/iphone\" r...  \n",
       "...                                                 ...  \n",
       "996   <a href=\"http://twitter.com/download/iphone\" r...  \n",
       "997   <a href=\"http://twitter.com/download/iphone\" r...  \n",
       "998   <a href=\"http://twitter.com/download/iphone\" r...  \n",
       "999   <a href=\"http://twitter.com/download/iphone\" r...  \n",
       "1000  <a href=\"http://twitter.com/download/iphone\" r...  \n",
       "\n",
       "[1001 rows x 9 columns]"
      ]
     },
     "execution_count": 8,
     "metadata": {},
     "output_type": "execute_result"
    }
   ],
   "source": [
    "tweets_df1"
   ]
  },
  {
   "cell_type": "code",
   "execution_count": null,
   "id": "268a902c",
   "metadata": {},
   "outputs": [],
   "source": [
    "#Connecting to mongodb and saving the dataframe"
   ]
  },
  {
   "cell_type": "code",
   "execution_count": 14,
   "id": "0862fb21",
   "metadata": {},
   "outputs": [],
   "source": [
    "client = pymongo.MongoClient(\"mongodb://localhost:27017\")"
   ]
  },
  {
   "cell_type": "code",
   "execution_count": 16,
   "id": "bf1e031d",
   "metadata": {},
   "outputs": [],
   "source": [
    "db = client.twitter"
   ]
  },
  {
   "cell_type": "code",
   "execution_count": 17,
   "id": "0ba6847d",
   "metadata": {},
   "outputs": [],
   "source": [
    "records = db.elonmusk"
   ]
  },
  {
   "cell_type": "code",
   "execution_count": 18,
   "id": "cdfea0ad",
   "metadata": {},
   "outputs": [
    {
     "data": {
      "text/plain": [
       "<pymongo.results.InsertManyResult at 0x1d8551f8220>"
      ]
     },
     "execution_count": 18,
     "metadata": {},
     "output_type": "execute_result"
    }
   ],
   "source": [
    "db.collection.insert_many(tweets_df1.to_dict('records'))"
   ]
  },
  {
   "cell_type": "code",
   "execution_count": null,
   "id": "207c0cbe",
   "metadata": {},
   "outputs": [],
   "source": [
    "#"
   ]
  },
  {
   "cell_type": "code",
   "execution_count": null,
   "id": "46d87b5d",
   "metadata": {},
   "outputs": [],
   "source": []
  }
 ],
 "metadata": {
  "kernelspec": {
   "display_name": "Python 3 (ipykernel)",
   "language": "python",
   "name": "python3"
  },
  "language_info": {
   "codemirror_mode": {
    "name": "ipython",
    "version": 3
   },
   "file_extension": ".py",
   "mimetype": "text/x-python",
   "name": "python",
   "nbconvert_exporter": "python",
   "pygments_lexer": "ipython3",
   "version": "3.9.13"
  }
 },
 "nbformat": 4,
 "nbformat_minor": 5
}
